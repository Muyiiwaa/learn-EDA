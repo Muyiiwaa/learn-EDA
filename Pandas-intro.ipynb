{
 "cells": [
  {
   "cell_type": "code",
   "execution_count": 4,
   "metadata": {},
   "outputs": [],
   "source": [
    "# BASIC OOP REFRESHER\n",
    "\n",
    "# create a dog object\n",
    "\n",
    "class Dog:\n",
    "    \n",
    "    # initialize the constructor\n",
    "    def __init__(self, color, breed, gender, yob, name):\n",
    "        self.color = color\n",
    "        self.breed = breed\n",
    "        self.gender = gender\n",
    "        self.yob = yob\n",
    "        self.danger = False\n",
    "        self.attack = False\n",
    "        self.name = name\n",
    "        \n",
    "    \n",
    "    # create the methods of the object\n",
    "    \n",
    "    def bark(self, intensity = 'l'):\n",
    "        if intensity == 'l':\n",
    "            print('WOOOF!')\n",
    "        elif intensity == 'h':\n",
    "            print('wooooooooooooooooooooof!!!!!!!!')\n",
    "    \n",
    "    def run(self, danger = False):\n",
    "        if danger:\n",
    "            self.danger = True\n",
    "            self.attack = True\n",
    "            print('running really fast')\n",
    "        elif danger == False:\n",
    "            print('RUNNING AND HAVING FUN')\n",
    "    \n",
    "    def calm(self):\n",
    "        if self.attack:\n",
    "            self.attack = False\n",
    "            self.danger = False\n",
    "            print('calming the dog')\n",
    "        elif self.attack == False:\n",
    "            print(f'{self.name} is calm already..')\n",
    "        \n",
    "    "
   ]
  },
  {
   "cell_type": "code",
   "execution_count": 5,
   "metadata": {},
   "outputs": [],
   "source": [
    "bruno = Dog(color = 'red', breed = 'Rott', gender = 'female', yob = 2015 , name = 'Bruno')"
   ]
  },
  {
   "cell_type": "code",
   "execution_count": 10,
   "metadata": {},
   "outputs": [
    {
     "data": {
      "text/plain": [
       "2015"
      ]
     },
     "execution_count": 10,
     "metadata": {},
     "output_type": "execute_result"
    }
   ],
   "source": [
    "bruno.yob"
   ]
  },
  {
   "cell_type": "code",
   "execution_count": 12,
   "metadata": {},
   "outputs": [
    {
     "name": "stdout",
     "output_type": "stream",
     "text": [
      "wooooooooooooooooooooof!!!!!!!!\n"
     ]
    }
   ],
   "source": [
    "bruno.bark('h')"
   ]
  },
  {
   "cell_type": "code",
   "execution_count": 14,
   "metadata": {},
   "outputs": [
    {
     "name": "stdout",
     "output_type": "stream",
     "text": [
      "running really fast\n"
     ]
    }
   ],
   "source": [
    "bruno.run(True)"
   ]
  },
  {
   "cell_type": "code",
   "execution_count": 16,
   "metadata": {},
   "outputs": [
    {
     "name": "stdout",
     "output_type": "stream",
     "text": [
      "Bruno is calm already..\n"
     ]
    }
   ],
   "source": [
    "bruno.calm()"
   ]
  },
  {
   "cell_type": "code",
   "execution_count": 17,
   "metadata": {},
   "outputs": [
    {
     "name": "stdout",
     "output_type": "stream",
     "text": [
      "<class '__main__.Dog'>\n"
     ]
    }
   ],
   "source": [
    "print(type(bruno))"
   ]
  },
  {
   "cell_type": "markdown",
   "metadata": {},
   "source": [
    "### EXPLORATORY DATA ANALYSIS WITH PANDAS AND NUMPY"
   ]
  },
  {
   "cell_type": "code",
   "execution_count": 18,
   "metadata": {},
   "outputs": [],
   "source": [
    "# import the libraries\n",
    "\n",
    "import pandas as pd\n",
    "import numpy as np "
   ]
  },
  {
   "cell_type": "code",
   "execution_count": 19,
   "metadata": {},
   "outputs": [],
   "source": [
    "# creating a list and a numpy array\n",
    "age = [12,13,14,25]\n",
    "age_2 = np.array([12,13,14,25])"
   ]
  },
  {
   "cell_type": "code",
   "execution_count": 20,
   "metadata": {},
   "outputs": [
    {
     "name": "stdout",
     "output_type": "stream",
     "text": [
      "<class 'list'>\n",
      "<class 'numpy.ndarray'>\n"
     ]
    }
   ],
   "source": [
    "print(type(age))\n",
    "print(type(age_2))"
   ]
  },
  {
   "cell_type": "code",
   "execution_count": 27,
   "metadata": {},
   "outputs": [
    {
     "name": "stdout",
     "output_type": "stream",
     "text": [
      "<class 'numpy.ndarray'>\n"
     ]
    }
   ],
   "source": [
    "a = np.array([[1,2,3],\n",
    "              [4,5,6],\n",
    "              [7,8,9]])\n",
    "\n",
    "\n",
    "print(type(a))"
   ]
  },
  {
   "cell_type": "code",
   "execution_count": 22,
   "metadata": {},
   "outputs": [
    {
     "data": {
      "text/plain": [
       "(3, 3)"
      ]
     },
     "execution_count": 22,
     "metadata": {},
     "output_type": "execute_result"
    }
   ],
   "source": [
    "a.shape"
   ]
  },
  {
   "cell_type": "code",
   "execution_count": 26,
   "metadata": {},
   "outputs": [
    {
     "data": {
      "text/plain": [
       "dtype('<U11')"
      ]
     },
     "execution_count": 26,
     "metadata": {},
     "output_type": "execute_result"
    }
   ],
   "source": [
    "# checking the datatype of element\n",
    "a.dtype"
   ]
  },
  {
   "cell_type": "code",
   "execution_count": null,
   "metadata": {},
   "outputs": [],
   "source": [
    "# creating pandas dataframe\n",
    "\n",
    "# 1. from dictionaries or list of lists\n",
    "# 2. load from local file \n",
    "# 3. connect to a database or an API"
   ]
  },
  {
   "cell_type": "code",
   "execution_count": 30,
   "metadata": {},
   "outputs": [],
   "source": [
    "# method 1 \n",
    "\n",
    "# create a students table\n",
    "\n",
    "students = {\n",
    "    \n",
    "    'name':['zainab', 'yemi', 'ayo', 'ade', 'wale'],\n",
    "    'age': [2,3,4,5,6],\n",
    "    'height' : [11.2,12,32.5,34,12],\n",
    "    'color':  ['red','red','black','blue','yellow']   \n",
    "}\n",
    "\n",
    "students_df = pd.DataFrame(students)"
   ]
  },
  {
   "cell_type": "code",
   "execution_count": 31,
   "metadata": {},
   "outputs": [
    {
     "data": {
      "text/html": [
       "<div>\n",
       "<style scoped>\n",
       "    .dataframe tbody tr th:only-of-type {\n",
       "        vertical-align: middle;\n",
       "    }\n",
       "\n",
       "    .dataframe tbody tr th {\n",
       "        vertical-align: top;\n",
       "    }\n",
       "\n",
       "    .dataframe thead th {\n",
       "        text-align: right;\n",
       "    }\n",
       "</style>\n",
       "<table border=\"1\" class=\"dataframe\">\n",
       "  <thead>\n",
       "    <tr style=\"text-align: right;\">\n",
       "      <th></th>\n",
       "      <th>name</th>\n",
       "      <th>age</th>\n",
       "      <th>height</th>\n",
       "      <th>color</th>\n",
       "    </tr>\n",
       "  </thead>\n",
       "  <tbody>\n",
       "    <tr>\n",
       "      <th>0</th>\n",
       "      <td>zainab</td>\n",
       "      <td>2</td>\n",
       "      <td>11.2</td>\n",
       "      <td>red</td>\n",
       "    </tr>\n",
       "    <tr>\n",
       "      <th>1</th>\n",
       "      <td>yemi</td>\n",
       "      <td>3</td>\n",
       "      <td>12.0</td>\n",
       "      <td>red</td>\n",
       "    </tr>\n",
       "    <tr>\n",
       "      <th>2</th>\n",
       "      <td>ayo</td>\n",
       "      <td>4</td>\n",
       "      <td>32.5</td>\n",
       "      <td>black</td>\n",
       "    </tr>\n",
       "    <tr>\n",
       "      <th>3</th>\n",
       "      <td>ade</td>\n",
       "      <td>5</td>\n",
       "      <td>34.0</td>\n",
       "      <td>blue</td>\n",
       "    </tr>\n",
       "    <tr>\n",
       "      <th>4</th>\n",
       "      <td>wale</td>\n",
       "      <td>6</td>\n",
       "      <td>12.0</td>\n",
       "      <td>yellow</td>\n",
       "    </tr>\n",
       "  </tbody>\n",
       "</table>\n",
       "</div>"
      ],
      "text/plain": [
       "     name  age  height   color\n",
       "0  zainab    2    11.2     red\n",
       "1    yemi    3    12.0     red\n",
       "2     ayo    4    32.5   black\n",
       "3     ade    5    34.0    blue\n",
       "4    wale    6    12.0  yellow"
      ]
     },
     "execution_count": 31,
     "metadata": {},
     "output_type": "execute_result"
    }
   ],
   "source": [
    "students_df"
   ]
  },
  {
   "cell_type": "code",
   "execution_count": 33,
   "metadata": {},
   "outputs": [],
   "source": [
    "students_list = [\n",
    "    ['wale', 32, 55.3, 'blue'],\n",
    "    ['wasiu', 22, 55.3, 'red'],\n",
    "    ['wale', 32, 55, 'blue'],\n",
    "    ['sade', 12, 53, 'blue'],\n",
    "    ['wale', 32, 5.3, 'blue'],\n",
    "    ['wale', 62, 55.3, 'blue']  \n",
    "]\n",
    "\n",
    "columns = ['name', 'age', 'height', 'color']\n",
    "students_df2 = pd.DataFrame(data= students_list, columns= columns)"
   ]
  },
  {
   "cell_type": "code",
   "execution_count": 34,
   "metadata": {},
   "outputs": [
    {
     "data": {
      "text/html": [
       "<div>\n",
       "<style scoped>\n",
       "    .dataframe tbody tr th:only-of-type {\n",
       "        vertical-align: middle;\n",
       "    }\n",
       "\n",
       "    .dataframe tbody tr th {\n",
       "        vertical-align: top;\n",
       "    }\n",
       "\n",
       "    .dataframe thead th {\n",
       "        text-align: right;\n",
       "    }\n",
       "</style>\n",
       "<table border=\"1\" class=\"dataframe\">\n",
       "  <thead>\n",
       "    <tr style=\"text-align: right;\">\n",
       "      <th></th>\n",
       "      <th>name</th>\n",
       "      <th>age</th>\n",
       "      <th>height</th>\n",
       "      <th>color</th>\n",
       "    </tr>\n",
       "  </thead>\n",
       "  <tbody>\n",
       "    <tr>\n",
       "      <th>0</th>\n",
       "      <td>wale</td>\n",
       "      <td>32</td>\n",
       "      <td>55.3</td>\n",
       "      <td>blue</td>\n",
       "    </tr>\n",
       "    <tr>\n",
       "      <th>1</th>\n",
       "      <td>wasiu</td>\n",
       "      <td>22</td>\n",
       "      <td>55.3</td>\n",
       "      <td>red</td>\n",
       "    </tr>\n",
       "    <tr>\n",
       "      <th>2</th>\n",
       "      <td>wale</td>\n",
       "      <td>32</td>\n",
       "      <td>55.0</td>\n",
       "      <td>blue</td>\n",
       "    </tr>\n",
       "    <tr>\n",
       "      <th>3</th>\n",
       "      <td>sade</td>\n",
       "      <td>12</td>\n",
       "      <td>53.0</td>\n",
       "      <td>blue</td>\n",
       "    </tr>\n",
       "    <tr>\n",
       "      <th>4</th>\n",
       "      <td>wale</td>\n",
       "      <td>32</td>\n",
       "      <td>5.3</td>\n",
       "      <td>blue</td>\n",
       "    </tr>\n",
       "    <tr>\n",
       "      <th>5</th>\n",
       "      <td>wale</td>\n",
       "      <td>62</td>\n",
       "      <td>55.3</td>\n",
       "      <td>blue</td>\n",
       "    </tr>\n",
       "  </tbody>\n",
       "</table>\n",
       "</div>"
      ],
      "text/plain": [
       "    name  age  height color\n",
       "0   wale   32    55.3  blue\n",
       "1  wasiu   22    55.3   red\n",
       "2   wale   32    55.0  blue\n",
       "3   sade   12    53.0  blue\n",
       "4   wale   32     5.3  blue\n",
       "5   wale   62    55.3  blue"
      ]
     },
     "execution_count": 34,
     "metadata": {},
     "output_type": "execute_result"
    }
   ],
   "source": [
    "students_df2"
   ]
  },
  {
   "cell_type": "code",
   "execution_count": 35,
   "metadata": {},
   "outputs": [],
   "source": [
    "# METHOD 2 \n",
    "\n",
    "netflix_df = pd.read_csv('most-popular.csv')"
   ]
  },
  {
   "cell_type": "code",
   "execution_count": 37,
   "metadata": {},
   "outputs": [
    {
     "data": {
      "text/html": [
       "<div>\n",
       "<style scoped>\n",
       "    .dataframe tbody tr th:only-of-type {\n",
       "        vertical-align: middle;\n",
       "    }\n",
       "\n",
       "    .dataframe tbody tr th {\n",
       "        vertical-align: top;\n",
       "    }\n",
       "\n",
       "    .dataframe thead th {\n",
       "        text-align: right;\n",
       "    }\n",
       "</style>\n",
       "<table border=\"1\" class=\"dataframe\">\n",
       "  <thead>\n",
       "    <tr style=\"text-align: right;\">\n",
       "      <th></th>\n",
       "      <th>category</th>\n",
       "      <th>rank</th>\n",
       "      <th>show_title</th>\n",
       "      <th>season_title</th>\n",
       "      <th>hours_viewed_first_91_days</th>\n",
       "      <th>runtime</th>\n",
       "      <th>views_first_91_days</th>\n",
       "    </tr>\n",
       "  </thead>\n",
       "  <tbody>\n",
       "    <tr>\n",
       "      <th>0</th>\n",
       "      <td>Films (English)</td>\n",
       "      <td>1</td>\n",
       "      <td>Red Notice</td>\n",
       "      <td>NaN</td>\n",
       "      <td>454200000</td>\n",
       "      <td>1.9667</td>\n",
       "      <td>230900000</td>\n",
       "    </tr>\n",
       "    <tr>\n",
       "      <th>1</th>\n",
       "      <td>Films (English)</td>\n",
       "      <td>2</td>\n",
       "      <td>Don't Look Up</td>\n",
       "      <td>NaN</td>\n",
       "      <td>408600000</td>\n",
       "      <td>2.3833</td>\n",
       "      <td>171400000</td>\n",
       "    </tr>\n",
       "    <tr>\n",
       "      <th>2</th>\n",
       "      <td>Films (English)</td>\n",
       "      <td>3</td>\n",
       "      <td>The Adam Project</td>\n",
       "      <td>NaN</td>\n",
       "      <td>281000000</td>\n",
       "      <td>1.7833</td>\n",
       "      <td>157600000</td>\n",
       "    </tr>\n",
       "    <tr>\n",
       "      <th>3</th>\n",
       "      <td>Films (English)</td>\n",
       "      <td>4</td>\n",
       "      <td>Bird Box</td>\n",
       "      <td>NaN</td>\n",
       "      <td>325300000</td>\n",
       "      <td>2.0667</td>\n",
       "      <td>157400000</td>\n",
       "    </tr>\n",
       "    <tr>\n",
       "      <th>4</th>\n",
       "      <td>Films (English)</td>\n",
       "      <td>5</td>\n",
       "      <td>The Gray Man</td>\n",
       "      <td>NaN</td>\n",
       "      <td>299500000</td>\n",
       "      <td>2.1500</td>\n",
       "      <td>139300000</td>\n",
       "    </tr>\n",
       "  </tbody>\n",
       "</table>\n",
       "</div>"
      ],
      "text/plain": [
       "          category  rank        show_title season_title  \\\n",
       "0  Films (English)     1        Red Notice          NaN   \n",
       "1  Films (English)     2     Don't Look Up          NaN   \n",
       "2  Films (English)     3  The Adam Project          NaN   \n",
       "3  Films (English)     4          Bird Box          NaN   \n",
       "4  Films (English)     5      The Gray Man          NaN   \n",
       "\n",
       "   hours_viewed_first_91_days  runtime  views_first_91_days  \n",
       "0                   454200000   1.9667            230900000  \n",
       "1                   408600000   2.3833            171400000  \n",
       "2                   281000000   1.7833            157600000  \n",
       "3                   325300000   2.0667            157400000  \n",
       "4                   299500000   2.1500            139300000  "
      ]
     },
     "execution_count": 37,
     "metadata": {},
     "output_type": "execute_result"
    }
   ],
   "source": [
    "netflix_df.head()"
   ]
  },
  {
   "cell_type": "code",
   "execution_count": 38,
   "metadata": {},
   "outputs": [],
   "source": [
    "food_df = pd.read_csv(r'C:\\Users\\hp\\Desktop\\New folder\\world_food.csv')"
   ]
  },
  {
   "cell_type": "code",
   "execution_count": 39,
   "metadata": {},
   "outputs": [
    {
     "data": {
      "text/html": [
       "<div>\n",
       "<style scoped>\n",
       "    .dataframe tbody tr th:only-of-type {\n",
       "        vertical-align: middle;\n",
       "    }\n",
       "\n",
       "    .dataframe tbody tr th {\n",
       "        vertical-align: top;\n",
       "    }\n",
       "\n",
       "    .dataframe thead th {\n",
       "        text-align: right;\n",
       "    }\n",
       "</style>\n",
       "<table border=\"1\" class=\"dataframe\">\n",
       "  <thead>\n",
       "    <tr style=\"text-align: right;\">\n",
       "      <th></th>\n",
       "      <th>Entity</th>\n",
       "      <th>Year</th>\n",
       "      <th>Maize Production (tonnes)</th>\n",
       "      <th>Rice  Production ( tonnes)</th>\n",
       "      <th>Yams  Production (tonnes)</th>\n",
       "      <th>Wheat Production (tonnes)</th>\n",
       "      <th>Tomatoes Production (tonnes)</th>\n",
       "      <th>Tea  Production ( tonnes )</th>\n",
       "      <th>Sweet potatoes  Production (tonnes)</th>\n",
       "      <th>Sunflower seed  Production (tonnes)</th>\n",
       "      <th>...</th>\n",
       "      <th>Oranges  Production (tonnes)</th>\n",
       "      <th>Peas, dry Production ( tonnes)</th>\n",
       "      <th>Palm oil  Production (tonnes)</th>\n",
       "      <th>Grapes  Production (tonnes)</th>\n",
       "      <th>Coffee, green Production ( tonnes)</th>\n",
       "      <th>Cocoa beans Production (tonnes)</th>\n",
       "      <th>Meat, chicken  Production (tonnes)</th>\n",
       "      <th>Bananas  Production ( tonnes)</th>\n",
       "      <th>Avocados Production (tonnes)</th>\n",
       "      <th>Apples Production (tonnes)</th>\n",
       "    </tr>\n",
       "  </thead>\n",
       "  <tbody>\n",
       "    <tr>\n",
       "      <th>0</th>\n",
       "      <td>Afghanistan</td>\n",
       "      <td>1961</td>\n",
       "      <td>700000.0</td>\n",
       "      <td>319000.0</td>\n",
       "      <td>7467702.0</td>\n",
       "      <td>2279000.0</td>\n",
       "      <td>1873812.0</td>\n",
       "      <td>56315.0</td>\n",
       "      <td>3270871.0</td>\n",
       "      <td>12000.0</td>\n",
       "      <td>...</td>\n",
       "      <td>10100.0</td>\n",
       "      <td>232910.0</td>\n",
       "      <td>1131882.0</td>\n",
       "      <td>225000.0</td>\n",
       "      <td>870970.0</td>\n",
       "      <td>835368.0</td>\n",
       "      <td>5600.0</td>\n",
       "      <td>3139079.0</td>\n",
       "      <td>63439.0</td>\n",
       "      <td>15100.0</td>\n",
       "    </tr>\n",
       "    <tr>\n",
       "      <th>1</th>\n",
       "      <td>Afghanistan</td>\n",
       "      <td>1962</td>\n",
       "      <td>700000.0</td>\n",
       "      <td>319000.0</td>\n",
       "      <td>7420515.0</td>\n",
       "      <td>2279000.0</td>\n",
       "      <td>2044797.0</td>\n",
       "      <td>61519.0</td>\n",
       "      <td>3562524.0</td>\n",
       "      <td>12800.0</td>\n",
       "      <td>...</td>\n",
       "      <td>10100.0</td>\n",
       "      <td>259412.0</td>\n",
       "      <td>1111006.0</td>\n",
       "      <td>225000.0</td>\n",
       "      <td>883512.0</td>\n",
       "      <td>867170.0</td>\n",
       "      <td>6000.0</td>\n",
       "      <td>3181580.0</td>\n",
       "      <td>65118.0</td>\n",
       "      <td>15100.0</td>\n",
       "    </tr>\n",
       "    <tr>\n",
       "      <th>2</th>\n",
       "      <td>Afghanistan</td>\n",
       "      <td>1963</td>\n",
       "      <td>713000.0</td>\n",
       "      <td>319000.0</td>\n",
       "      <td>8479074.0</td>\n",
       "      <td>1947000.0</td>\n",
       "      <td>2096077.0</td>\n",
       "      <td>63596.0</td>\n",
       "      <td>3409916.0</td>\n",
       "      <td>12800.0</td>\n",
       "      <td>...</td>\n",
       "      <td>10100.0</td>\n",
       "      <td>251529.0</td>\n",
       "      <td>1145004.0</td>\n",
       "      <td>225000.0</td>\n",
       "      <td>996674.0</td>\n",
       "      <td>922621.0</td>\n",
       "      <td>6160.0</td>\n",
       "      <td>3304256.0</td>\n",
       "      <td>61760.0</td>\n",
       "      <td>15100.0</td>\n",
       "    </tr>\n",
       "    <tr>\n",
       "      <th>3</th>\n",
       "      <td>Afghanistan</td>\n",
       "      <td>1964</td>\n",
       "      <td>720000.0</td>\n",
       "      <td>380000.0</td>\n",
       "      <td>9113779.0</td>\n",
       "      <td>2230000.0</td>\n",
       "      <td>2388264.0</td>\n",
       "      <td>66604.0</td>\n",
       "      <td>3229336.0</td>\n",
       "      <td>12800.0</td>\n",
       "      <td>...</td>\n",
       "      <td>12400.0</td>\n",
       "      <td>247556.0</td>\n",
       "      <td>1160831.0</td>\n",
       "      <td>265000.0</td>\n",
       "      <td>1162048.0</td>\n",
       "      <td>1190061.0</td>\n",
       "      <td>6400.0</td>\n",
       "      <td>3392527.0</td>\n",
       "      <td>62759.0</td>\n",
       "      <td>18400.0</td>\n",
       "    </tr>\n",
       "    <tr>\n",
       "      <th>4</th>\n",
       "      <td>Afghanistan</td>\n",
       "      <td>1965</td>\n",
       "      <td>720000.0</td>\n",
       "      <td>380000.0</td>\n",
       "      <td>10067913.0</td>\n",
       "      <td>2282000.0</td>\n",
       "      <td>2559608.0</td>\n",
       "      <td>72418.0</td>\n",
       "      <td>3169104.0</td>\n",
       "      <td>13200.0</td>\n",
       "      <td>...</td>\n",
       "      <td>13700.0</td>\n",
       "      <td>266947.0</td>\n",
       "      <td>1138860.0</td>\n",
       "      <td>287000.0</td>\n",
       "      <td>1075084.0</td>\n",
       "      <td>874245.0</td>\n",
       "      <td>6800.0</td>\n",
       "      <td>3450849.0</td>\n",
       "      <td>66269.0</td>\n",
       "      <td>20400.0</td>\n",
       "    </tr>\n",
       "  </tbody>\n",
       "</table>\n",
       "<p>5 rows × 24 columns</p>\n",
       "</div>"
      ],
      "text/plain": [
       "        Entity  Year  Maize Production (tonnes)  Rice  Production ( tonnes)  \\\n",
       "0  Afghanistan  1961                   700000.0                    319000.0   \n",
       "1  Afghanistan  1962                   700000.0                    319000.0   \n",
       "2  Afghanistan  1963                   713000.0                    319000.0   \n",
       "3  Afghanistan  1964                   720000.0                    380000.0   \n",
       "4  Afghanistan  1965                   720000.0                    380000.0   \n",
       "\n",
       "   Yams  Production (tonnes)  Wheat Production (tonnes)  \\\n",
       "0                  7467702.0                  2279000.0   \n",
       "1                  7420515.0                  2279000.0   \n",
       "2                  8479074.0                  1947000.0   \n",
       "3                  9113779.0                  2230000.0   \n",
       "4                 10067913.0                  2282000.0   \n",
       "\n",
       "   Tomatoes Production (tonnes)  Tea  Production ( tonnes )  \\\n",
       "0                     1873812.0                     56315.0   \n",
       "1                     2044797.0                     61519.0   \n",
       "2                     2096077.0                     63596.0   \n",
       "3                     2388264.0                     66604.0   \n",
       "4                     2559608.0                     72418.0   \n",
       "\n",
       "   Sweet potatoes  Production (tonnes)  Sunflower seed  Production (tonnes)  \\\n",
       "0                            3270871.0                              12000.0   \n",
       "1                            3562524.0                              12800.0   \n",
       "2                            3409916.0                              12800.0   \n",
       "3                            3229336.0                              12800.0   \n",
       "4                            3169104.0                              13200.0   \n",
       "\n",
       "   ...  Oranges  Production (tonnes)  Peas, dry Production ( tonnes)  \\\n",
       "0  ...                       10100.0                        232910.0   \n",
       "1  ...                       10100.0                        259412.0   \n",
       "2  ...                       10100.0                        251529.0   \n",
       "3  ...                       12400.0                        247556.0   \n",
       "4  ...                       13700.0                        266947.0   \n",
       "\n",
       "   Palm oil  Production (tonnes)  Grapes  Production (tonnes)  \\\n",
       "0                      1131882.0                     225000.0   \n",
       "1                      1111006.0                     225000.0   \n",
       "2                      1145004.0                     225000.0   \n",
       "3                      1160831.0                     265000.0   \n",
       "4                      1138860.0                     287000.0   \n",
       "\n",
       "   Coffee, green Production ( tonnes)  Cocoa beans Production (tonnes)  \\\n",
       "0                            870970.0                         835368.0   \n",
       "1                            883512.0                         867170.0   \n",
       "2                            996674.0                         922621.0   \n",
       "3                           1162048.0                        1190061.0   \n",
       "4                           1075084.0                         874245.0   \n",
       "\n",
       "   Meat, chicken  Production (tonnes)  Bananas  Production ( tonnes)  \\\n",
       "0                              5600.0                      3139079.0   \n",
       "1                              6000.0                      3181580.0   \n",
       "2                              6160.0                      3304256.0   \n",
       "3                              6400.0                      3392527.0   \n",
       "4                              6800.0                      3450849.0   \n",
       "\n",
       "   Avocados Production (tonnes)  Apples Production (tonnes)  \n",
       "0                       63439.0                     15100.0  \n",
       "1                       65118.0                     15100.0  \n",
       "2                       61760.0                     15100.0  \n",
       "3                       62759.0                     18400.0  \n",
       "4                       66269.0                     20400.0  \n",
       "\n",
       "[5 rows x 24 columns]"
      ]
     },
     "execution_count": 39,
     "metadata": {},
     "output_type": "execute_result"
    }
   ],
   "source": [
    "food_df.head(5)"
   ]
  },
  {
   "cell_type": "markdown",
   "metadata": {},
   "source": [
    "## Assignment\n",
    "\n",
    "1. create a 15 by 2 numpy array from a python list of lists\n",
    "2. create an orders dataframe with 10 columns and atleast 10 records using either list of lists or dictionaries\n",
    "3. download any kaggle dataset and load them using read_csv"
   ]
  },
  {
   "cell_type": "markdown",
   "metadata": {},
   "source": [
    "### Method 3 - Connecting to Databases\n",
    "\n"
   ]
  },
  {
   "cell_type": "code",
   "execution_count": 1,
   "metadata": {},
   "outputs": [],
   "source": [
    "# importing the required libraries \n",
    "\n",
    "\n",
    "import mysql.connector\n",
    "from mysql.connector import Error\n",
    "from IPython.display import clear_output\n",
    "\n",
    "\n",
    "import pandas as pd \n",
    "import numpy as np\n"
   ]
  },
  {
   "cell_type": "code",
   "execution_count": 2,
   "metadata": {},
   "outputs": [],
   "source": [
    "# create a database connection function\n",
    "\n",
    "def server_connect(host_name, password, user_name):\n",
    "    connection = None\n",
    "    try:\n",
    "        connection = mysql.connector.connect(\n",
    "            host = host_name,\n",
    "            passwd = password,\n",
    "            user = user_name \n",
    "        )\n",
    "    except Error as err:\n",
    "        print(f'Error:{err}')\n",
    "    \n",
    "    return connection\n"
   ]
  },
  {
   "cell_type": "code",
   "execution_count": 3,
   "metadata": {},
   "outputs": [],
   "source": [
    "pw = input()\n",
    "clear_output()\n",
    "connection = server_connect(host_name='localhost', password= pw, user_name= 'root')"
   ]
  },
  {
   "cell_type": "code",
   "execution_count": 4,
   "metadata": {},
   "outputs": [],
   "source": [
    "# create a database connection function\n",
    "\n",
    "def db_connect(host_name, password, user_name, db_name):\n",
    "    connection = None\n",
    "    try:\n",
    "        connection = mysql.connector.connect(\n",
    "            host = host_name,\n",
    "            passwd = password,\n",
    "            user = user_name,\n",
    "            database = db_name\n",
    "        )\n",
    "        print(f'Connected to database {db_name} successfully')\n",
    "    except Error as err:\n",
    "        print(f'Error:{err}')\n",
    "    \n",
    "    return connection\n"
   ]
  },
  {
   "cell_type": "code",
   "execution_count": 5,
   "metadata": {},
   "outputs": [
    {
     "name": "stdout",
     "output_type": "stream",
     "text": [
      "Connected to database Northwind successfully\n"
     ]
    }
   ],
   "source": [
    "connection = db_connect(host_name='localhost', password= pw, user_name= 'root', db_name = 'Northwind')"
   ]
  },
  {
   "cell_type": "code",
   "execution_count": 6,
   "metadata": {},
   "outputs": [],
   "source": [
    "# reading queries \n",
    "\n",
    "def read_query(connection, query):\n",
    "    cursor = connection.cursor()\n",
    "    result = None\n",
    "    try:\n",
    "        cursor.execute(query)\n",
    "        result = cursor.fetchall()\n",
    "        return result\n",
    "    except Error as err:\n",
    "        print(f'Error: {err}')\n",
    "        "
   ]
  },
  {
   "cell_type": "code",
   "execution_count": 7,
   "metadata": {},
   "outputs": [],
   "source": [
    "query_1 = '''\n",
    "select productid, productname, unitprice\n",
    "from products\n",
    "\n",
    "'''\n",
    "\n",
    "\n",
    "\n",
    "results = read_query(connection,query_1)"
   ]
  },
  {
   "cell_type": "code",
   "execution_count": 9,
   "metadata": {},
   "outputs": [],
   "source": [
    "# define a dataframe creation function\n",
    "\n",
    "def create_df(data, columns):\n",
    "    data_list = []\n",
    "    for result in data:\n",
    "        result = list(result)\n",
    "        data_list.append(result)\n",
    "\n",
    "    df = pd.DataFrame(data= data_list, columns = columns)\n",
    "    \n",
    "    return df"
   ]
  },
  {
   "cell_type": "code",
   "execution_count": null,
   "metadata": {},
   "outputs": [],
   "source": [
    "product_df = create_df(data = results, columns= ['id', 'name', 'unitprice'])\n",
    "product_df"
   ]
  },
  {
   "cell_type": "code",
   "execution_count": null,
   "metadata": {},
   "outputs": [],
   "source": [
    "# convert the program to a class\n",
    "\n",
    "# query the northwind database by returning all the orders sold, the employees, customer, city, country,product,\n",
    "# and shipping company involved. Also return the orderdate, shippeddate, requireeddate and freight cost.\n",
    "# Convert the result set into a proper  pandas dataframe"
   ]
  },
  {
   "cell_type": "code",
   "execution_count": 12,
   "metadata": {},
   "outputs": [],
   "source": [
    "query_2 = '''\n",
    "\n",
    "select o.orderid, o.orderdate, o.shippeddate, o.requireddate, o.freight,\n",
    "    concat_ws(' ', e.firstname, e.lastname) as staff, od.unitprice, od.quantity,\n",
    "    c.companyname, o.shipcity, o.shipcountry, p.productname, s.companyname\n",
    "from orders o\n",
    "join `order details` od on od.orderid = o.orderid\n",
    "join customers c on c.customerid = o.customerid\n",
    "join products p on p.productid = od.productid\n",
    "join shippers s on s.shipperid = o.shipvia\n",
    "join employees e on e.employeeid = o.employeeid;\n",
    "'''\n",
    "\n",
    "\n",
    "columns = ['orderid', 'orderdate', 'shippeddate','requireddate','freight','staff','unitprice','quantity',\n",
    "           'companyname','city','country','productname','companyname']\n",
    "\n",
    "results = read_query(connection=connection, query= query_2)\n",
    "\n",
    "orders_df = create_df(data = results, columns= columns)"
   ]
  },
  {
   "cell_type": "code",
   "execution_count": 13,
   "metadata": {},
   "outputs": [
    {
     "data": {
      "text/html": [
       "<div>\n",
       "<style scoped>\n",
       "    .dataframe tbody tr th:only-of-type {\n",
       "        vertical-align: middle;\n",
       "    }\n",
       "\n",
       "    .dataframe tbody tr th {\n",
       "        vertical-align: top;\n",
       "    }\n",
       "\n",
       "    .dataframe thead th {\n",
       "        text-align: right;\n",
       "    }\n",
       "</style>\n",
       "<table border=\"1\" class=\"dataframe\">\n",
       "  <thead>\n",
       "    <tr style=\"text-align: right;\">\n",
       "      <th></th>\n",
       "      <th>orderid</th>\n",
       "      <th>orderdate</th>\n",
       "      <th>shippeddate</th>\n",
       "      <th>requireddate</th>\n",
       "      <th>freight</th>\n",
       "      <th>staff</th>\n",
       "      <th>unitprice</th>\n",
       "      <th>quantity</th>\n",
       "      <th>companyname</th>\n",
       "      <th>city</th>\n",
       "      <th>country</th>\n",
       "      <th>productname</th>\n",
       "      <th>companyname</th>\n",
       "    </tr>\n",
       "  </thead>\n",
       "  <tbody>\n",
       "    <tr>\n",
       "      <th>0</th>\n",
       "      <td>10293</td>\n",
       "      <td>1996-08-29</td>\n",
       "      <td>1996-09-11</td>\n",
       "      <td>1996-09-26</td>\n",
       "      <td>21.1800</td>\n",
       "      <td>Nancy Davolio</td>\n",
       "      <td>50.0000</td>\n",
       "      <td>12</td>\n",
       "      <td>Tortuga Restaurante</td>\n",
       "      <td>Mxico D.F.</td>\n",
       "      <td>Mexico</td>\n",
       "      <td>Carnarvon Tigers</td>\n",
       "      <td>Federal Shipping</td>\n",
       "    </tr>\n",
       "    <tr>\n",
       "      <th>1</th>\n",
       "      <td>10293</td>\n",
       "      <td>1996-08-29</td>\n",
       "      <td>1996-09-11</td>\n",
       "      <td>1996-09-26</td>\n",
       "      <td>21.1800</td>\n",
       "      <td>Nancy Davolio</td>\n",
       "      <td>3.6000</td>\n",
       "      <td>10</td>\n",
       "      <td>Tortuga Restaurante</td>\n",
       "      <td>Mxico D.F.</td>\n",
       "      <td>Mexico</td>\n",
       "      <td>Guaran Fantstica</td>\n",
       "      <td>Federal Shipping</td>\n",
       "    </tr>\n",
       "    <tr>\n",
       "      <th>2</th>\n",
       "      <td>10293</td>\n",
       "      <td>1996-08-29</td>\n",
       "      <td>1996-09-11</td>\n",
       "      <td>1996-09-26</td>\n",
       "      <td>21.1800</td>\n",
       "      <td>Nancy Davolio</td>\n",
       "      <td>35.1000</td>\n",
       "      <td>5</td>\n",
       "      <td>Tortuga Restaurante</td>\n",
       "      <td>Mxico D.F.</td>\n",
       "      <td>Mexico</td>\n",
       "      <td>Vegie-spread</td>\n",
       "      <td>Federal Shipping</td>\n",
       "    </tr>\n",
       "    <tr>\n",
       "      <th>3</th>\n",
       "      <td>10293</td>\n",
       "      <td>1996-08-29</td>\n",
       "      <td>1996-09-11</td>\n",
       "      <td>1996-09-26</td>\n",
       "      <td>21.1800</td>\n",
       "      <td>Nancy Davolio</td>\n",
       "      <td>6.2000</td>\n",
       "      <td>6</td>\n",
       "      <td>Tortuga Restaurante</td>\n",
       "      <td>Mxico D.F.</td>\n",
       "      <td>Mexico</td>\n",
       "      <td>Rhnbru Klosterbier</td>\n",
       "      <td>Federal Shipping</td>\n",
       "    </tr>\n",
       "    <tr>\n",
       "      <th>4</th>\n",
       "      <td>10306</td>\n",
       "      <td>1996-09-16</td>\n",
       "      <td>1996-09-23</td>\n",
       "      <td>1996-10-14</td>\n",
       "      <td>7.5600</td>\n",
       "      <td>Nancy Davolio</td>\n",
       "      <td>20.7000</td>\n",
       "      <td>10</td>\n",
       "      <td>Romero y tomillo</td>\n",
       "      <td>Madrid</td>\n",
       "      <td>Spain</td>\n",
       "      <td>Nord-Ost Matjeshering</td>\n",
       "      <td>Federal Shipping</td>\n",
       "    </tr>\n",
       "    <tr>\n",
       "      <th>...</th>\n",
       "      <td>...</td>\n",
       "      <td>...</td>\n",
       "      <td>...</td>\n",
       "      <td>...</td>\n",
       "      <td>...</td>\n",
       "      <td>...</td>\n",
       "      <td>...</td>\n",
       "      <td>...</td>\n",
       "      <td>...</td>\n",
       "      <td>...</td>\n",
       "      <td>...</td>\n",
       "      <td>...</td>\n",
       "      <td>...</td>\n",
       "    </tr>\n",
       "    <tr>\n",
       "      <th>2150</th>\n",
       "      <td>10829</td>\n",
       "      <td>1998-01-13</td>\n",
       "      <td>1998-01-23</td>\n",
       "      <td>1998-02-10</td>\n",
       "      <td>154.7200</td>\n",
       "      <td>Anne Dodsworth</td>\n",
       "      <td>19.0000</td>\n",
       "      <td>10</td>\n",
       "      <td>Island Trading</td>\n",
       "      <td>Cowes</td>\n",
       "      <td>UK</td>\n",
       "      <td>Chang</td>\n",
       "      <td>Speedy Express</td>\n",
       "    </tr>\n",
       "    <tr>\n",
       "      <th>2151</th>\n",
       "      <td>10829</td>\n",
       "      <td>1998-01-13</td>\n",
       "      <td>1998-01-23</td>\n",
       "      <td>1998-02-10</td>\n",
       "      <td>154.7200</td>\n",
       "      <td>Anne Dodsworth</td>\n",
       "      <td>40.0000</td>\n",
       "      <td>20</td>\n",
       "      <td>Island Trading</td>\n",
       "      <td>Cowes</td>\n",
       "      <td>UK</td>\n",
       "      <td>Northwoods Cranberry Sauce</td>\n",
       "      <td>Speedy Express</td>\n",
       "    </tr>\n",
       "    <tr>\n",
       "      <th>2152</th>\n",
       "      <td>10829</td>\n",
       "      <td>1998-01-13</td>\n",
       "      <td>1998-01-23</td>\n",
       "      <td>1998-02-10</td>\n",
       "      <td>154.7200</td>\n",
       "      <td>Anne Dodsworth</td>\n",
       "      <td>6.0000</td>\n",
       "      <td>10</td>\n",
       "      <td>Island Trading</td>\n",
       "      <td>Cowes</td>\n",
       "      <td>UK</td>\n",
       "      <td>Konbu</td>\n",
       "      <td>Speedy Express</td>\n",
       "    </tr>\n",
       "    <tr>\n",
       "      <th>2153</th>\n",
       "      <td>10829</td>\n",
       "      <td>1998-01-13</td>\n",
       "      <td>1998-01-23</td>\n",
       "      <td>1998-02-10</td>\n",
       "      <td>154.7200</td>\n",
       "      <td>Anne Dodsworth</td>\n",
       "      <td>34.0000</td>\n",
       "      <td>21</td>\n",
       "      <td>Island Trading</td>\n",
       "      <td>Cowes</td>\n",
       "      <td>UK</td>\n",
       "      <td>Camembert Pierrot</td>\n",
       "      <td>Speedy Express</td>\n",
       "    </tr>\n",
       "    <tr>\n",
       "      <th>2154</th>\n",
       "      <td>10970</td>\n",
       "      <td>1998-03-24</td>\n",
       "      <td>1998-04-24</td>\n",
       "      <td>1998-04-07</td>\n",
       "      <td>16.1600</td>\n",
       "      <td>Anne Dodsworth</td>\n",
       "      <td>7.0000</td>\n",
       "      <td>40</td>\n",
       "      <td>Blido Comidas preparadas</td>\n",
       "      <td>Madrid</td>\n",
       "      <td>Spain</td>\n",
       "      <td>Filo Mix</td>\n",
       "      <td>Speedy Express</td>\n",
       "    </tr>\n",
       "  </tbody>\n",
       "</table>\n",
       "<p>2155 rows × 13 columns</p>\n",
       "</div>"
      ],
      "text/plain": [
       "      orderid  orderdate shippeddate requireddate   freight           staff  \\\n",
       "0       10293 1996-08-29  1996-09-11   1996-09-26   21.1800   Nancy Davolio   \n",
       "1       10293 1996-08-29  1996-09-11   1996-09-26   21.1800   Nancy Davolio   \n",
       "2       10293 1996-08-29  1996-09-11   1996-09-26   21.1800   Nancy Davolio   \n",
       "3       10293 1996-08-29  1996-09-11   1996-09-26   21.1800   Nancy Davolio   \n",
       "4       10306 1996-09-16  1996-09-23   1996-10-14    7.5600   Nancy Davolio   \n",
       "...       ...        ...         ...          ...       ...             ...   \n",
       "2150    10829 1998-01-13  1998-01-23   1998-02-10  154.7200  Anne Dodsworth   \n",
       "2151    10829 1998-01-13  1998-01-23   1998-02-10  154.7200  Anne Dodsworth   \n",
       "2152    10829 1998-01-13  1998-01-23   1998-02-10  154.7200  Anne Dodsworth   \n",
       "2153    10829 1998-01-13  1998-01-23   1998-02-10  154.7200  Anne Dodsworth   \n",
       "2154    10970 1998-03-24  1998-04-24   1998-04-07   16.1600  Anne Dodsworth   \n",
       "\n",
       "     unitprice  quantity               companyname        city country  \\\n",
       "0      50.0000        12       Tortuga Restaurante  Mxico D.F.  Mexico   \n",
       "1       3.6000        10       Tortuga Restaurante  Mxico D.F.  Mexico   \n",
       "2      35.1000         5       Tortuga Restaurante  Mxico D.F.  Mexico   \n",
       "3       6.2000         6       Tortuga Restaurante  Mxico D.F.  Mexico   \n",
       "4      20.7000        10          Romero y tomillo      Madrid   Spain   \n",
       "...        ...       ...                       ...         ...     ...   \n",
       "2150   19.0000        10            Island Trading       Cowes      UK   \n",
       "2151   40.0000        20            Island Trading       Cowes      UK   \n",
       "2152    6.0000        10            Island Trading       Cowes      UK   \n",
       "2153   34.0000        21            Island Trading       Cowes      UK   \n",
       "2154    7.0000        40  Blido Comidas preparadas      Madrid   Spain   \n",
       "\n",
       "                     productname       companyname  \n",
       "0               Carnarvon Tigers  Federal Shipping  \n",
       "1               Guaran Fantstica  Federal Shipping  \n",
       "2                   Vegie-spread  Federal Shipping  \n",
       "3             Rhnbru Klosterbier  Federal Shipping  \n",
       "4          Nord-Ost Matjeshering  Federal Shipping  \n",
       "...                          ...               ...  \n",
       "2150                       Chang    Speedy Express  \n",
       "2151  Northwoods Cranberry Sauce    Speedy Express  \n",
       "2152                       Konbu    Speedy Express  \n",
       "2153           Camembert Pierrot    Speedy Express  \n",
       "2154                    Filo Mix    Speedy Express  \n",
       "\n",
       "[2155 rows x 13 columns]"
      ]
     },
     "execution_count": 13,
     "metadata": {},
     "output_type": "execute_result"
    }
   ],
   "source": [
    "orders_df"
   ]
  },
  {
   "cell_type": "markdown",
   "metadata": {},
   "source": [
    "### Exploring Some popular pandas method"
   ]
  },
  {
   "cell_type": "code",
   "execution_count": 22,
   "metadata": {},
   "outputs": [
    {
     "data": {
      "text/html": [
       "<div>\n",
       "<style scoped>\n",
       "    .dataframe tbody tr th:only-of-type {\n",
       "        vertical-align: middle;\n",
       "    }\n",
       "\n",
       "    .dataframe tbody tr th {\n",
       "        vertical-align: top;\n",
       "    }\n",
       "\n",
       "    .dataframe thead th {\n",
       "        text-align: right;\n",
       "    }\n",
       "</style>\n",
       "<table border=\"1\" class=\"dataframe\">\n",
       "  <thead>\n",
       "    <tr style=\"text-align: right;\">\n",
       "      <th></th>\n",
       "      <th>orderid</th>\n",
       "      <th>orderdate</th>\n",
       "      <th>shippeddate</th>\n",
       "      <th>requireddate</th>\n",
       "      <th>freight</th>\n",
       "      <th>staff</th>\n",
       "      <th>unitprice</th>\n",
       "      <th>quantity</th>\n",
       "      <th>companyname</th>\n",
       "      <th>city</th>\n",
       "      <th>country</th>\n",
       "      <th>productname</th>\n",
       "      <th>companyname</th>\n",
       "    </tr>\n",
       "  </thead>\n",
       "  <tbody>\n",
       "    <tr>\n",
       "      <th>0</th>\n",
       "      <td>10293</td>\n",
       "      <td>1996-08-29</td>\n",
       "      <td>1996-09-11</td>\n",
       "      <td>1996-09-26</td>\n",
       "      <td>21.1800</td>\n",
       "      <td>Nancy Davolio</td>\n",
       "      <td>50.0000</td>\n",
       "      <td>12</td>\n",
       "      <td>Tortuga Restaurante</td>\n",
       "      <td>Mxico D.F.</td>\n",
       "      <td>Mexico</td>\n",
       "      <td>Carnarvon Tigers</td>\n",
       "      <td>Federal Shipping</td>\n",
       "    </tr>\n",
       "    <tr>\n",
       "      <th>1</th>\n",
       "      <td>10293</td>\n",
       "      <td>1996-08-29</td>\n",
       "      <td>1996-09-11</td>\n",
       "      <td>1996-09-26</td>\n",
       "      <td>21.1800</td>\n",
       "      <td>Nancy Davolio</td>\n",
       "      <td>3.6000</td>\n",
       "      <td>10</td>\n",
       "      <td>Tortuga Restaurante</td>\n",
       "      <td>Mxico D.F.</td>\n",
       "      <td>Mexico</td>\n",
       "      <td>Guaran Fantstica</td>\n",
       "      <td>Federal Shipping</td>\n",
       "    </tr>\n",
       "    <tr>\n",
       "      <th>2</th>\n",
       "      <td>10293</td>\n",
       "      <td>1996-08-29</td>\n",
       "      <td>1996-09-11</td>\n",
       "      <td>1996-09-26</td>\n",
       "      <td>21.1800</td>\n",
       "      <td>Nancy Davolio</td>\n",
       "      <td>35.1000</td>\n",
       "      <td>5</td>\n",
       "      <td>Tortuga Restaurante</td>\n",
       "      <td>Mxico D.F.</td>\n",
       "      <td>Mexico</td>\n",
       "      <td>Vegie-spread</td>\n",
       "      <td>Federal Shipping</td>\n",
       "    </tr>\n",
       "    <tr>\n",
       "      <th>3</th>\n",
       "      <td>10293</td>\n",
       "      <td>1996-08-29</td>\n",
       "      <td>1996-09-11</td>\n",
       "      <td>1996-09-26</td>\n",
       "      <td>21.1800</td>\n",
       "      <td>Nancy Davolio</td>\n",
       "      <td>6.2000</td>\n",
       "      <td>6</td>\n",
       "      <td>Tortuga Restaurante</td>\n",
       "      <td>Mxico D.F.</td>\n",
       "      <td>Mexico</td>\n",
       "      <td>Rhnbru Klosterbier</td>\n",
       "      <td>Federal Shipping</td>\n",
       "    </tr>\n",
       "    <tr>\n",
       "      <th>4</th>\n",
       "      <td>10306</td>\n",
       "      <td>1996-09-16</td>\n",
       "      <td>1996-09-23</td>\n",
       "      <td>1996-10-14</td>\n",
       "      <td>7.5600</td>\n",
       "      <td>Nancy Davolio</td>\n",
       "      <td>20.7000</td>\n",
       "      <td>10</td>\n",
       "      <td>Romero y tomillo</td>\n",
       "      <td>Madrid</td>\n",
       "      <td>Spain</td>\n",
       "      <td>Nord-Ost Matjeshering</td>\n",
       "      <td>Federal Shipping</td>\n",
       "    </tr>\n",
       "  </tbody>\n",
       "</table>\n",
       "</div>"
      ],
      "text/plain": [
       "   orderid  orderdate shippeddate requireddate  freight          staff  \\\n",
       "0    10293 1996-08-29  1996-09-11   1996-09-26  21.1800  Nancy Davolio   \n",
       "1    10293 1996-08-29  1996-09-11   1996-09-26  21.1800  Nancy Davolio   \n",
       "2    10293 1996-08-29  1996-09-11   1996-09-26  21.1800  Nancy Davolio   \n",
       "3    10293 1996-08-29  1996-09-11   1996-09-26  21.1800  Nancy Davolio   \n",
       "4    10306 1996-09-16  1996-09-23   1996-10-14   7.5600  Nancy Davolio   \n",
       "\n",
       "  unitprice  quantity          companyname        city country  \\\n",
       "0   50.0000        12  Tortuga Restaurante  Mxico D.F.  Mexico   \n",
       "1    3.6000        10  Tortuga Restaurante  Mxico D.F.  Mexico   \n",
       "2   35.1000         5  Tortuga Restaurante  Mxico D.F.  Mexico   \n",
       "3    6.2000         6  Tortuga Restaurante  Mxico D.F.  Mexico   \n",
       "4   20.7000        10     Romero y tomillo      Madrid   Spain   \n",
       "\n",
       "             productname       companyname  \n",
       "0       Carnarvon Tigers  Federal Shipping  \n",
       "1       Guaran Fantstica  Federal Shipping  \n",
       "2           Vegie-spread  Federal Shipping  \n",
       "3     Rhnbru Klosterbier  Federal Shipping  \n",
       "4  Nord-Ost Matjeshering  Federal Shipping  "
      ]
     },
     "execution_count": 22,
     "metadata": {},
     "output_type": "execute_result"
    }
   ],
   "source": [
    "# .head method \n",
    "\n",
    "orders_df.head()"
   ]
  },
  {
   "cell_type": "code",
   "execution_count": 23,
   "metadata": {},
   "outputs": [
    {
     "data": {
      "text/html": [
       "<div>\n",
       "<style scoped>\n",
       "    .dataframe tbody tr th:only-of-type {\n",
       "        vertical-align: middle;\n",
       "    }\n",
       "\n",
       "    .dataframe tbody tr th {\n",
       "        vertical-align: top;\n",
       "    }\n",
       "\n",
       "    .dataframe thead th {\n",
       "        text-align: right;\n",
       "    }\n",
       "</style>\n",
       "<table border=\"1\" class=\"dataframe\">\n",
       "  <thead>\n",
       "    <tr style=\"text-align: right;\">\n",
       "      <th></th>\n",
       "      <th>orderid</th>\n",
       "      <th>orderdate</th>\n",
       "      <th>shippeddate</th>\n",
       "      <th>requireddate</th>\n",
       "      <th>freight</th>\n",
       "      <th>staff</th>\n",
       "      <th>unitprice</th>\n",
       "      <th>quantity</th>\n",
       "      <th>companyname</th>\n",
       "      <th>city</th>\n",
       "      <th>country</th>\n",
       "      <th>productname</th>\n",
       "      <th>companyname</th>\n",
       "    </tr>\n",
       "  </thead>\n",
       "  <tbody>\n",
       "    <tr>\n",
       "      <th>2152</th>\n",
       "      <td>10829</td>\n",
       "      <td>1998-01-13</td>\n",
       "      <td>1998-01-23</td>\n",
       "      <td>1998-02-10</td>\n",
       "      <td>154.7200</td>\n",
       "      <td>Anne Dodsworth</td>\n",
       "      <td>6.0000</td>\n",
       "      <td>10</td>\n",
       "      <td>Island Trading</td>\n",
       "      <td>Cowes</td>\n",
       "      <td>UK</td>\n",
       "      <td>Konbu</td>\n",
       "      <td>Speedy Express</td>\n",
       "    </tr>\n",
       "    <tr>\n",
       "      <th>2153</th>\n",
       "      <td>10829</td>\n",
       "      <td>1998-01-13</td>\n",
       "      <td>1998-01-23</td>\n",
       "      <td>1998-02-10</td>\n",
       "      <td>154.7200</td>\n",
       "      <td>Anne Dodsworth</td>\n",
       "      <td>34.0000</td>\n",
       "      <td>21</td>\n",
       "      <td>Island Trading</td>\n",
       "      <td>Cowes</td>\n",
       "      <td>UK</td>\n",
       "      <td>Camembert Pierrot</td>\n",
       "      <td>Speedy Express</td>\n",
       "    </tr>\n",
       "    <tr>\n",
       "      <th>2154</th>\n",
       "      <td>10970</td>\n",
       "      <td>1998-03-24</td>\n",
       "      <td>1998-04-24</td>\n",
       "      <td>1998-04-07</td>\n",
       "      <td>16.1600</td>\n",
       "      <td>Anne Dodsworth</td>\n",
       "      <td>7.0000</td>\n",
       "      <td>40</td>\n",
       "      <td>Blido Comidas preparadas</td>\n",
       "      <td>Madrid</td>\n",
       "      <td>Spain</td>\n",
       "      <td>Filo Mix</td>\n",
       "      <td>Speedy Express</td>\n",
       "    </tr>\n",
       "  </tbody>\n",
       "</table>\n",
       "</div>"
      ],
      "text/plain": [
       "      orderid  orderdate shippeddate requireddate   freight           staff  \\\n",
       "2152    10829 1998-01-13  1998-01-23   1998-02-10  154.7200  Anne Dodsworth   \n",
       "2153    10829 1998-01-13  1998-01-23   1998-02-10  154.7200  Anne Dodsworth   \n",
       "2154    10970 1998-03-24  1998-04-24   1998-04-07   16.1600  Anne Dodsworth   \n",
       "\n",
       "     unitprice  quantity               companyname    city country  \\\n",
       "2152    6.0000        10            Island Trading   Cowes      UK   \n",
       "2153   34.0000        21            Island Trading   Cowes      UK   \n",
       "2154    7.0000        40  Blido Comidas preparadas  Madrid   Spain   \n",
       "\n",
       "            productname     companyname  \n",
       "2152              Konbu  Speedy Express  \n",
       "2153  Camembert Pierrot  Speedy Express  \n",
       "2154           Filo Mix  Speedy Express  "
      ]
     },
     "execution_count": 23,
     "metadata": {},
     "output_type": "execute_result"
    }
   ],
   "source": [
    "# .tail method \n",
    "\n",
    "orders_df.tail(3)\n"
   ]
  },
  {
   "cell_type": "code",
   "execution_count": 25,
   "metadata": {},
   "outputs": [
    {
     "data": {
      "text/plain": [
       "(2155, 13)"
      ]
     },
     "execution_count": 25,
     "metadata": {},
     "output_type": "execute_result"
    }
   ],
   "source": [
    "# .shape attribute\n",
    "\n",
    "orders_df.shape"
   ]
  },
  {
   "cell_type": "code",
   "execution_count": 41,
   "metadata": {},
   "outputs": [
    {
     "name": "stdout",
     "output_type": "stream",
     "text": [
      "<class 'pandas.core.frame.DataFrame'>\n",
      "RangeIndex: 2155 entries, 0 to 2154\n",
      "Data columns (total 13 columns):\n",
      " #   Column          Non-Null Count  Dtype         \n",
      "---  ------          --------------  -----         \n",
      " 0   orderid         2155 non-null   int64         \n",
      " 1   orderdate       2155 non-null   datetime64[ns]\n",
      " 2   shippeddate     2082 non-null   datetime64[ns]\n",
      " 3   requireddate    2155 non-null   datetime64[ns]\n",
      " 4   freight         2155 non-null   float64       \n",
      " 5   staff           2155 non-null   object        \n",
      " 6   unitprice       2155 non-null   float64       \n",
      " 7   quantity        2155 non-null   int64         \n",
      " 8   companyname     2155 non-null   object        \n",
      " 9   city            2155 non-null   object        \n",
      " 10  country         2155 non-null   object        \n",
      " 11  companyname     2155 non-null   object        \n",
      " 12  quantity_class  2155 non-null   object        \n",
      "dtypes: datetime64[ns](3), float64(2), int64(2), object(6)\n",
      "memory usage: 219.0+ KB\n"
     ]
    }
   ],
   "source": [
    "# .info method\n",
    "\n",
    "orders_df.info()"
   ]
  },
  {
   "cell_type": "code",
   "execution_count": 29,
   "metadata": {},
   "outputs": [
    {
     "data": {
      "text/plain": [
       "orderid          0\n",
       "orderdate        0\n",
       "shippeddate     73\n",
       "requireddate     0\n",
       "freight          0\n",
       "staff            0\n",
       "unitprice        0\n",
       "quantity         0\n",
       "companyname      0\n",
       "city             0\n",
       "country          0\n",
       "productname      0\n",
       "companyname      0\n",
       "dtype: int64"
      ]
     },
     "execution_count": 29,
     "metadata": {},
     "output_type": "execute_result"
    }
   ],
   "source": [
    "# missing value inspection\n",
    "\n",
    "orders_df.isnull().sum()"
   ]
  },
  {
   "cell_type": "code",
   "execution_count": 30,
   "metadata": {},
   "outputs": [
    {
     "data": {
      "text/html": [
       "<div>\n",
       "<style scoped>\n",
       "    .dataframe tbody tr th:only-of-type {\n",
       "        vertical-align: middle;\n",
       "    }\n",
       "\n",
       "    .dataframe tbody tr th {\n",
       "        vertical-align: top;\n",
       "    }\n",
       "\n",
       "    .dataframe thead th {\n",
       "        text-align: right;\n",
       "    }\n",
       "</style>\n",
       "<table border=\"1\" class=\"dataframe\">\n",
       "  <thead>\n",
       "    <tr style=\"text-align: right;\">\n",
       "      <th></th>\n",
       "      <th>orderid</th>\n",
       "      <th>quantity</th>\n",
       "    </tr>\n",
       "  </thead>\n",
       "  <tbody>\n",
       "    <tr>\n",
       "      <th>count</th>\n",
       "      <td>2155.000000</td>\n",
       "      <td>2155.000000</td>\n",
       "    </tr>\n",
       "    <tr>\n",
       "      <th>mean</th>\n",
       "      <td>10659.375870</td>\n",
       "      <td>23.812993</td>\n",
       "    </tr>\n",
       "    <tr>\n",
       "      <th>std</th>\n",
       "      <td>241.378032</td>\n",
       "      <td>19.022047</td>\n",
       "    </tr>\n",
       "    <tr>\n",
       "      <th>min</th>\n",
       "      <td>10248.000000</td>\n",
       "      <td>1.000000</td>\n",
       "    </tr>\n",
       "    <tr>\n",
       "      <th>25%</th>\n",
       "      <td>10451.000000</td>\n",
       "      <td>10.000000</td>\n",
       "    </tr>\n",
       "    <tr>\n",
       "      <th>50%</th>\n",
       "      <td>10657.000000</td>\n",
       "      <td>20.000000</td>\n",
       "    </tr>\n",
       "    <tr>\n",
       "      <th>75%</th>\n",
       "      <td>10862.500000</td>\n",
       "      <td>30.000000</td>\n",
       "    </tr>\n",
       "    <tr>\n",
       "      <th>max</th>\n",
       "      <td>11077.000000</td>\n",
       "      <td>130.000000</td>\n",
       "    </tr>\n",
       "  </tbody>\n",
       "</table>\n",
       "</div>"
      ],
      "text/plain": [
       "            orderid     quantity\n",
       "count   2155.000000  2155.000000\n",
       "mean   10659.375870    23.812993\n",
       "std      241.378032    19.022047\n",
       "min    10248.000000     1.000000\n",
       "25%    10451.000000    10.000000\n",
       "50%    10657.000000    20.000000\n",
       "75%    10862.500000    30.000000\n",
       "max    11077.000000   130.000000"
      ]
     },
     "execution_count": 30,
     "metadata": {},
     "output_type": "execute_result"
    }
   ],
   "source": [
    "# basic descriptive statistics\n",
    "\n",
    "orders_df.describe()"
   ]
  },
  {
   "cell_type": "code",
   "execution_count": 33,
   "metadata": {},
   "outputs": [],
   "source": [
    "# .drop method\n",
    "\n",
    "orders_df.drop(columns= ['productname'], inplace= True)"
   ]
  },
  {
   "cell_type": "code",
   "execution_count": null,
   "metadata": {},
   "outputs": [],
   "source": [
    "# .drop method for rows\n",
    "\n",
    "\n",
    "# single row\n",
    "\n",
    "orders_df.drop([23])\n",
    "\n",
    "# multiple rows in a range\n",
    "\n",
    "rows = list(range(0,10))\n",
    "\n",
    "orders_df.drop(rows)"
   ]
  },
  {
   "cell_type": "code",
   "execution_count": null,
   "metadata": {},
   "outputs": [],
   "source": []
  },
  {
   "cell_type": "code",
   "execution_count": 38,
   "metadata": {},
   "outputs": [],
   "source": [
    "# .apply method \n",
    "\n",
    "# create a function that classifies quantity to three diff class of youur choice \n",
    "\n",
    "def classify(x):\n",
    "    if x <= 20:\n",
    "        return 'low'\n",
    "    elif x <= 30:\n",
    "        return 'mid'\n",
    "    else:\n",
    "        return 'high'\n",
    "    \n",
    "\n",
    "orders_df['quantity_class'] = orders_df['quantity'].apply(classify)"
   ]
  },
  {
   "cell_type": "code",
   "execution_count": 40,
   "metadata": {},
   "outputs": [],
   "source": [
    "# converting unitprice and freight to numbers \n",
    "    \n",
    "orders_df['unitprice'] = orders_df['unitprice'].apply(pd.to_numeric)\n",
    "orders_df['freight'] = orders_df['freight'].apply(pd.to_numeric)"
   ]
  },
  {
   "cell_type": "code",
   "execution_count": 46,
   "metadata": {},
   "outputs": [
    {
     "data": {
      "text/plain": [
       "orderid                   object\n",
       "orderdate         datetime64[ns]\n",
       "shippeddate       datetime64[ns]\n",
       "requireddate      datetime64[ns]\n",
       "freight                  float64\n",
       "staff                     object\n",
       "unitprice                float64\n",
       "quantity                   int64\n",
       "companyname               object\n",
       "city                      object\n",
       "country                   object\n",
       "companyname               object\n",
       "quantity_class            object\n",
       "dtype: object"
      ]
     },
     "execution_count": 46,
     "metadata": {},
     "output_type": "execute_result"
    }
   ],
   "source": [
    "# convert orderid to strinngs\n",
    "\n",
    "orders_df.astype({'orderid':'str'}).dtypes"
   ]
  },
  {
   "cell_type": "code",
   "execution_count": 48,
   "metadata": {},
   "outputs": [
    {
     "data": {
      "text/plain": [
       "Anne Dodsworth      107\n",
       "Steven Buchanan     117\n",
       "Michael Suyama      168\n",
       "Robert King         176\n",
       "Andrew Fuller       241\n",
       "Laura Callahan      260\n",
       "Janet Leverling     321\n",
       "Nancy Davolio       345\n",
       "Margaret Peacock    420\n",
       "Name: staff, dtype: int64"
      ]
     },
     "execution_count": 48,
     "metadata": {},
     "output_type": "execute_result"
    }
   ],
   "source": [
    "# value_counts method\n",
    "\n",
    "orders_df['staff'].value_counts(ascending=True)"
   ]
  },
  {
   "cell_type": "code",
   "execution_count": 52,
   "metadata": {},
   "outputs": [
    {
     "data": {
      "text/plain": [
       "array(['Mxico D.F.', 'Madrid', 'Nantes', 'Albuquerque', 'Brandenburg',\n",
       "       'Marseille', 'Barquisimeto', 'Warszawa', 'London', 'Boise',\n",
       "       'Elgin', 'Mnchen', 'rhus', 'Cowes', 'Walla Walla', 'Lyon',\n",
       "       'Lisboa', 'Campinas', 'Lule', 'Bern', 'Graz', 'Caracas',\n",
       "       'Sao Paulo', 'Berlin', 'Helsinki', 'Tsawassen', 'Portland',\n",
       "       'Cunewalde', 'Montral', 'Lander', 'Stavern', 'Colchester',\n",
       "       'San Cristbal', 'Kln', 'San Francisco', 'Eugene', 'Reggio Emilia',\n",
       "       'Stuttgart', 'Lille', 'Sevilla', 'Resende', 'Buenos Aires',\n",
       "       'Bergamo', 'Rio de Janeiro', 'Charleroi', 'I. de Margarita',\n",
       "       'Aachen', 'Oulu', 'Toulouse', 'Seattle', 'Genve', 'Cork',\n",
       "       'Anchorage', 'Torino', 'Brcke', 'Barcelona', 'Leipzig', 'Salzburg',\n",
       "       'Vancouver', 'Reims', 'Mnster', 'Strasbourg', 'Kobenhavn', 'Paris',\n",
       "       'Versailles', 'Frankfurt a.M.', 'Butte', 'Mannheim', 'Bruxelles',\n",
       "       'Kirkland'], dtype=object)"
      ]
     },
     "execution_count": 52,
     "metadata": {},
     "output_type": "execute_result"
    }
   ],
   "source": [
    "# unique and nunique method\n",
    "\n",
    "orders_df['city'].unique()"
   ]
  },
  {
   "cell_type": "code",
   "execution_count": null,
   "metadata": {},
   "outputs": [],
   "source": [
    "# assignment\n",
    "\n",
    "# research 10 new pandas methods and use them on our orders_df dataframe or any dataframe of your choice"
   ]
  },
  {
   "cell_type": "code",
   "execution_count": 53,
   "metadata": {},
   "outputs": [],
   "source": [
    "orders_df.to_csv('orders.csv')"
   ]
  }
 ],
 "metadata": {
  "kernelspec": {
   "display_name": "base",
   "language": "python",
   "name": "python3"
  },
  "language_info": {
   "codemirror_mode": {
    "name": "ipython",
    "version": 3
   },
   "file_extension": ".py",
   "mimetype": "text/x-python",
   "name": "python",
   "nbconvert_exporter": "python",
   "pygments_lexer": "ipython3",
   "version": "3.11.4"
  }
 },
 "nbformat": 4,
 "nbformat_minor": 2
}
