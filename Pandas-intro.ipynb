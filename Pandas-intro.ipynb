{
 "cells": [
  {
   "cell_type": "code",
   "execution_count": 4,
   "metadata": {},
   "outputs": [],
   "source": [
    "# BASIC OOP REFRESHER\n",
    "\n",
    "# create a dog object\n",
    "\n",
    "class Dog:\n",
    "    \n",
    "    # initialize the constructor\n",
    "    def __init__(self, color, breed, gender, yob, name):\n",
    "        self.color = color\n",
    "        self.breed = breed\n",
    "        self.gender = gender\n",
    "        self.yob = yob\n",
    "        self.danger = False\n",
    "        self.attack = False\n",
    "        self.name = name\n",
    "        \n",
    "    \n",
    "    # create the methods of the object\n",
    "    \n",
    "    def bark(self, intensity = 'l'):\n",
    "        if intensity == 'l':\n",
    "            print('WOOOF!')\n",
    "        elif intensity == 'h':\n",
    "            print('wooooooooooooooooooooof!!!!!!!!')\n",
    "    \n",
    "    def run(self, danger = False):\n",
    "        if danger:\n",
    "            self.danger = True\n",
    "            self.attack = True\n",
    "            print('running really fast')\n",
    "        elif danger == False:\n",
    "            print('RUNNING AND HAVING FUN')\n",
    "    \n",
    "    def calm(self):\n",
    "        if self.attack:\n",
    "            self.attack = False\n",
    "            self.danger = False\n",
    "            print('calming the dog')\n",
    "        elif self.attack == False:\n",
    "            print(f'{self.name} is calm already..')\n",
    "        \n",
    "    "
   ]
  },
  {
   "cell_type": "code",
   "execution_count": 5,
   "metadata": {},
   "outputs": [],
   "source": [
    "bruno = Dog(color = 'red', breed = 'Rott', gender = 'female', yob = 2015 , name = 'Bruno')"
   ]
  },
  {
   "cell_type": "code",
   "execution_count": 10,
   "metadata": {},
   "outputs": [
    {
     "data": {
      "text/plain": [
       "2015"
      ]
     },
     "execution_count": 10,
     "metadata": {},
     "output_type": "execute_result"
    }
   ],
   "source": [
    "bruno.yob"
   ]
  },
  {
   "cell_type": "code",
   "execution_count": 12,
   "metadata": {},
   "outputs": [
    {
     "name": "stdout",
     "output_type": "stream",
     "text": [
      "wooooooooooooooooooooof!!!!!!!!\n"
     ]
    }
   ],
   "source": [
    "bruno.bark('h')"
   ]
  },
  {
   "cell_type": "code",
   "execution_count": 14,
   "metadata": {},
   "outputs": [
    {
     "name": "stdout",
     "output_type": "stream",
     "text": [
      "running really fast\n"
     ]
    }
   ],
   "source": [
    "bruno.run(True)"
   ]
  },
  {
   "cell_type": "code",
   "execution_count": 16,
   "metadata": {},
   "outputs": [
    {
     "name": "stdout",
     "output_type": "stream",
     "text": [
      "Bruno is calm already..\n"
     ]
    }
   ],
   "source": [
    "bruno.calm()"
   ]
  },
  {
   "cell_type": "code",
   "execution_count": 17,
   "metadata": {},
   "outputs": [
    {
     "name": "stdout",
     "output_type": "stream",
     "text": [
      "<class '__main__.Dog'>\n"
     ]
    }
   ],
   "source": [
    "print(type(bruno))"
   ]
  },
  {
   "cell_type": "markdown",
   "metadata": {},
   "source": [
    "### EXPLORATORY DATA ANALYSIS WITH PANDAS AND NUMPY"
   ]
  },
  {
   "cell_type": "code",
   "execution_count": 18,
   "metadata": {},
   "outputs": [],
   "source": [
    "# import the libraries\n",
    "\n",
    "import pandas as pd\n",
    "import numpy as np "
   ]
  },
  {
   "cell_type": "code",
   "execution_count": 19,
   "metadata": {},
   "outputs": [],
   "source": [
    "# creating a list and a numpy array\n",
    "age = [12,13,14,25]\n",
    "age_2 = np.array([12,13,14,25])"
   ]
  },
  {
   "cell_type": "code",
   "execution_count": 20,
   "metadata": {},
   "outputs": [
    {
     "name": "stdout",
     "output_type": "stream",
     "text": [
      "<class 'list'>\n",
      "<class 'numpy.ndarray'>\n"
     ]
    }
   ],
   "source": [
    "print(type(age))\n",
    "print(type(age_2))"
   ]
  },
  {
   "cell_type": "code",
   "execution_count": 27,
   "metadata": {},
   "outputs": [
    {
     "name": "stdout",
     "output_type": "stream",
     "text": [
      "<class 'numpy.ndarray'>\n"
     ]
    }
   ],
   "source": [
    "a = np.array([[1,2,3],\n",
    "              [4,5,6],\n",
    "              [7,8,9]])\n",
    "\n",
    "\n",
    "print(type(a))"
   ]
  },
  {
   "cell_type": "code",
   "execution_count": 22,
   "metadata": {},
   "outputs": [
    {
     "data": {
      "text/plain": [
       "(3, 3)"
      ]
     },
     "execution_count": 22,
     "metadata": {},
     "output_type": "execute_result"
    }
   ],
   "source": [
    "a.shape"
   ]
  },
  {
   "cell_type": "code",
   "execution_count": 26,
   "metadata": {},
   "outputs": [
    {
     "data": {
      "text/plain": [
       "dtype('<U11')"
      ]
     },
     "execution_count": 26,
     "metadata": {},
     "output_type": "execute_result"
    }
   ],
   "source": [
    "# checking the datatype of element\n",
    "a.dtype"
   ]
  },
  {
   "cell_type": "code",
   "execution_count": null,
   "metadata": {},
   "outputs": [],
   "source": [
    "# creating pandas dataframe\n",
    "\n",
    "# 1. from dictionaries or list of lists\n",
    "# 2. load from local file \n",
    "# 3. connect to a database or an API"
   ]
  },
  {
   "cell_type": "code",
   "execution_count": 30,
   "metadata": {},
   "outputs": [],
   "source": [
    "# method 1 \n",
    "\n",
    "# create a students table\n",
    "\n",
    "students = {\n",
    "    \n",
    "    'name':['zainab', 'yemi', 'ayo', 'ade', 'wale'],\n",
    "    'age': [2,3,4,5,6],\n",
    "    'height' : [11.2,12,32.5,34,12],\n",
    "    'color':  ['red','red','black','blue','yellow']   \n",
    "}\n",
    "\n",
    "students_df = pd.DataFrame(students)"
   ]
  },
  {
   "cell_type": "code",
   "execution_count": 31,
   "metadata": {},
   "outputs": [
    {
     "data": {
      "text/html": [
       "<div>\n",
       "<style scoped>\n",
       "    .dataframe tbody tr th:only-of-type {\n",
       "        vertical-align: middle;\n",
       "    }\n",
       "\n",
       "    .dataframe tbody tr th {\n",
       "        vertical-align: top;\n",
       "    }\n",
       "\n",
       "    .dataframe thead th {\n",
       "        text-align: right;\n",
       "    }\n",
       "</style>\n",
       "<table border=\"1\" class=\"dataframe\">\n",
       "  <thead>\n",
       "    <tr style=\"text-align: right;\">\n",
       "      <th></th>\n",
       "      <th>name</th>\n",
       "      <th>age</th>\n",
       "      <th>height</th>\n",
       "      <th>color</th>\n",
       "    </tr>\n",
       "  </thead>\n",
       "  <tbody>\n",
       "    <tr>\n",
       "      <th>0</th>\n",
       "      <td>zainab</td>\n",
       "      <td>2</td>\n",
       "      <td>11.2</td>\n",
       "      <td>red</td>\n",
       "    </tr>\n",
       "    <tr>\n",
       "      <th>1</th>\n",
       "      <td>yemi</td>\n",
       "      <td>3</td>\n",
       "      <td>12.0</td>\n",
       "      <td>red</td>\n",
       "    </tr>\n",
       "    <tr>\n",
       "      <th>2</th>\n",
       "      <td>ayo</td>\n",
       "      <td>4</td>\n",
       "      <td>32.5</td>\n",
       "      <td>black</td>\n",
       "    </tr>\n",
       "    <tr>\n",
       "      <th>3</th>\n",
       "      <td>ade</td>\n",
       "      <td>5</td>\n",
       "      <td>34.0</td>\n",
       "      <td>blue</td>\n",
       "    </tr>\n",
       "    <tr>\n",
       "      <th>4</th>\n",
       "      <td>wale</td>\n",
       "      <td>6</td>\n",
       "      <td>12.0</td>\n",
       "      <td>yellow</td>\n",
       "    </tr>\n",
       "  </tbody>\n",
       "</table>\n",
       "</div>"
      ],
      "text/plain": [
       "     name  age  height   color\n",
       "0  zainab    2    11.2     red\n",
       "1    yemi    3    12.0     red\n",
       "2     ayo    4    32.5   black\n",
       "3     ade    5    34.0    blue\n",
       "4    wale    6    12.0  yellow"
      ]
     },
     "execution_count": 31,
     "metadata": {},
     "output_type": "execute_result"
    }
   ],
   "source": [
    "students_df"
   ]
  },
  {
   "cell_type": "code",
   "execution_count": null,
   "metadata": {},
   "outputs": [],
   "source": []
  }
 ],
 "metadata": {
  "kernelspec": {
   "display_name": "base",
   "language": "python",
   "name": "python3"
  },
  "language_info": {
   "codemirror_mode": {
    "name": "ipython",
    "version": 3
   },
   "file_extension": ".py",
   "mimetype": "text/x-python",
   "name": "python",
   "nbconvert_exporter": "python",
   "pygments_lexer": "ipython3",
   "version": "3.11.4"
  }
 },
 "nbformat": 4,
 "nbformat_minor": 2
}
