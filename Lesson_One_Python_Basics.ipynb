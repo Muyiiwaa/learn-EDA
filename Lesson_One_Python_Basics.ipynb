{
  "nbformat": 4,
  "nbformat_minor": 0,
  "metadata": {
    "colab": {
      "provenance": [],
      "authorship_tag": "ABX9TyPlQY0uedGZrLriPsFTTcyJ",
      "include_colab_link": true
    },
    "kernelspec": {
      "name": "python3",
      "display_name": "Python 3"
    },
    "language_info": {
      "name": "python"
    }
  },
  "cells": [
    {
      "cell_type": "markdown",
      "metadata": {
        "id": "view-in-github",
        "colab_type": "text"
      },
      "source": [
        "<a href=\"https://colab.research.google.com/github/Muyiiwaa/learn-EDA/blob/master/Lesson_One_Python_Basics.ipynb\" target=\"_parent\"><img src=\"https://colab.research.google.com/assets/colab-badge.svg\" alt=\"Open In Colab\"/></a>"
      ]
    },
    {
      "cell_type": "markdown",
      "source": [
        "### PYTHON BASICS\n",
        "\n",
        "* Variables and datatypes\n",
        "* Operators\n",
        "* BuiltIn Functions\n",
        "* Conditionals\n",
        "* Basic Data Structures\n",
        "* Loops\n",
        "* Functions\n",
        "* List comprehension, Lambda function\n"
      ],
      "metadata": {
        "id": "8G3_ai6HHJlv"
      }
    },
    {
      "cell_type": "markdown",
      "source": [
        "### Variables and DataTypes\n",
        "\n",
        "\n",
        "#### Common datatypes in python\n",
        "\n",
        "* int ----> 2,5,667,4359 etc\n",
        "* float ----> 2.3, 45.6,12.7 etc\n",
        "* strings ----> 'segun', 'tunde', 'dog','hi'\n",
        "* boolean ----> True, False\n",
        "* Binary -----> 0,1\n",
        "\n",
        "### Operators\n",
        "\n",
        "#### Logical Operators\n",
        "* And\n",
        "* Or\n",
        "* Not\n",
        "\n",
        "#### Comparison Operators\n",
        "* greater than >\n",
        "* less than <\n",
        "* equal to ==\n",
        "* not equal !=\n",
        "* greater or equal >=\n",
        "* less or equal <=\n",
        "\n",
        "#### Arithmetic operators\n",
        "* subtraction -\n",
        "* addition +\n",
        "* multiplication *\n",
        "* division /\n",
        "* floor division //\n",
        "* modulus %\n",
        "* power **\n",
        "* root ** 1/n"
      ],
      "metadata": {
        "id": "_y0Ui_WFH8nJ"
      }
    },
    {
      "cell_type": "code",
      "source": [
        "orange = 2\n",
        "apple = 2\n",
        "\n",
        "orange + apple"
      ],
      "metadata": {
        "colab": {
          "base_uri": "https://localhost:8080/"
        },
        "id": "UlAdJOR5G6GO",
        "outputId": "01726e6a-2ac5-4191-dfce-1b8c6558f169"
      },
      "execution_count": 4,
      "outputs": [
        {
          "output_type": "execute_result",
          "data": {
            "text/plain": [
              "4"
            ]
          },
          "metadata": {},
          "execution_count": 4
        }
      ]
    },
    {
      "cell_type": "code",
      "source": [
        "orange + 56"
      ],
      "metadata": {
        "colab": {
          "base_uri": "https://localhost:8080/"
        },
        "id": "v2rhb2cUIH9e",
        "outputId": "53a6ee36-94fe-4e4e-c696-054220d8dac7"
      },
      "execution_count": 5,
      "outputs": [
        {
          "output_type": "execute_result",
          "data": {
            "text/plain": [
              "58"
            ]
          },
          "metadata": {},
          "execution_count": 5
        }
      ]
    },
    {
      "cell_type": "code",
      "source": [
        "# write a program that returns somebody's age based on their year of birth\n",
        "\n",
        "\n",
        "year = 1985  # define the year of birth\n",
        "age = 2024 - year # calculating the age\n",
        "\n",
        "print(f'You are {age} years old')   # printing the age result"
      ],
      "metadata": {
        "colab": {
          "base_uri": "https://localhost:8080/"
        },
        "id": "OKWo7t-iIW39",
        "outputId": "3f77681f-4a54-4bb9-abb2-08a9450ed77b"
      },
      "execution_count": 11,
      "outputs": [
        {
          "output_type": "stream",
          "name": "stdout",
          "text": [
            "You are 39 years old\n"
          ]
        }
      ]
    },
    {
      "cell_type": "code",
      "source": [
        "# write a program that accepts any year of birth and returns the person's age\n",
        "\n",
        "name = input('Enter your name: ')\n",
        "year = int(input(f'Hi {name}, enter your year of birth: '))\n",
        "\n",
        "age = 2024 - year\n",
        "\n",
        "print(f'Hi {name}, you are {age} years old')"
      ],
      "metadata": {
        "colab": {
          "base_uri": "https://localhost:8080/"
        },
        "id": "PYWrJ9vcJ7M6",
        "outputId": "bc15c5c8-a4d9-4df1-cea4-a2a59945acc3"
      },
      "execution_count": 19,
      "outputs": [
        {
          "output_type": "stream",
          "name": "stdout",
          "text": [
            "Enter your name: Gbemi\n",
            "Hi Gbemi, enter your year of birth: 2000\n",
            "Hi Gbemi, you are 24 years old\n"
          ]
        }
      ]
    },
    {
      "cell_type": "code",
      "source": [
        "# wwrite a program that converts days to weeks\n",
        "\n",
        "\n",
        "days = int(input('Enter the number of days: '))\n",
        "\n",
        "week = days // 7\n",
        "day = days % 7\n",
        "\n",
        "print(f'There are {week} weeks and {day} days')"
      ],
      "metadata": {
        "colab": {
          "base_uri": "https://localhost:8080/"
        },
        "id": "LLzQo5PKLONm",
        "outputId": "4577257e-de44-41fd-91af-b43b96aeb695"
      },
      "execution_count": 21,
      "outputs": [
        {
          "output_type": "stream",
          "name": "stdout",
          "text": [
            "Enter the number of days: 15\n",
            "There are 2 weeks and 1 days\n"
          ]
        }
      ]
    },
    {
      "cell_type": "code",
      "source": [
        "# write a program that solves quadratic equation\n",
        "\n",
        "a = int(input('a: '))\n",
        "b = int(input('b: '))\n",
        "c = int(input('c: '))\n",
        "\n",
        "x1 = (-b + (b**2 - 4*a*c) ** (1/2))/(2*a)\n",
        "x2 = (-b - (b**2 - 4*a*c) ** (1/2))/(2*a)\n",
        "\n",
        "print(f'x = {x1} or x = {x2}')"
      ],
      "metadata": {
        "colab": {
          "base_uri": "https://localhost:8080/"
        },
        "id": "uFt1xin4O0Mc",
        "outputId": "1244cfc0-9135-47c3-9b6e-709b6712f292"
      },
      "execution_count": 23,
      "outputs": [
        {
          "output_type": "stream",
          "name": "stdout",
          "text": [
            "a: 1\n",
            "b: -5\n",
            "c: 6\n",
            "x = 3.0 or x = 2.0\n"
          ]
        }
      ]
    },
    {
      "cell_type": "code",
      "source": [
        "9 ** (1/2)"
      ],
      "metadata": {
        "colab": {
          "base_uri": "https://localhost:8080/"
        },
        "id": "u6K98M5tQV2k",
        "outputId": "23228b2d-3f19-4ebf-cca5-9e7bddf1fbf4"
      },
      "execution_count": 22,
      "outputs": [
        {
          "output_type": "execute_result",
          "data": {
            "text/plain": [
              "3.0"
            ]
          },
          "metadata": {},
          "execution_count": 22
        }
      ]
    },
    {
      "cell_type": "markdown",
      "source": [
        "#### Assignment\n",
        "\n",
        "1. write a dollar to naira converter program\n",
        "2. write a simple program that converts megabyte to gigayte"
      ],
      "metadata": {
        "id": "cZV3M-17RNvv"
      }
    },
    {
      "cell_type": "code",
      "source": [],
      "metadata": {
        "id": "Nv-H9XjBQZr6"
      },
      "execution_count": null,
      "outputs": []
    },
    {
      "cell_type": "markdown",
      "source": [
        "### Conditionals\n",
        "\n",
        "* if\n",
        "* elif\n",
        "* else"
      ],
      "metadata": {
        "id": "cLSX0_2SRlRj"
      }
    },
    {
      "cell_type": "code",
      "source": [
        "# write a program that checks whether a number is even or odd\n",
        "\n",
        "\n",
        "number = int(input('Enter the number: '))\n",
        "\n",
        "if number % 2 == 0:\n",
        "  print(f'{number} is even')\n",
        "else:\n",
        "  print(f'{number} is odd')"
      ],
      "metadata": {
        "colab": {
          "base_uri": "https://localhost:8080/"
        },
        "id": "40lOgXFaRjUZ",
        "outputId": "720ce3c9-6e09-48a5-e1d7-4bcbbbef3fa9"
      },
      "execution_count": 27,
      "outputs": [
        {
          "output_type": "stream",
          "name": "stdout",
          "text": [
            "Enter the number: 6\n",
            "6 is even\n"
          ]
        }
      ]
    },
    {
      "cell_type": "code",
      "source": [
        "# write a program that checks whether someone is an adult, teenager or a child also greet them in their dialect\n",
        "\n",
        "year = int(input('Enter your year of Birth: '))\n",
        "tribe = input('What is your tribe: ')\n",
        "age = 2024 - year\n",
        "\n",
        "if tribe == 'yoruba':\n",
        "  print(f'Enle ooooo')\n",
        "  if age < 13:\n",
        "    print(f'You are a child')\n",
        "  elif age < 20:\n",
        "    print(f'You are a teenager')\n",
        "  else:\n",
        "    print(f'You are an adult')\n",
        "else:\n",
        "  print('Kedu ooooooooo')\n",
        "  if age < 13:\n",
        "    print(f'You are a child')\n",
        "  elif age < 20:\n",
        "    print(f'You are a teenager')\n",
        "  else:\n",
        "    print(f'You are an adult')"
      ],
      "metadata": {
        "colab": {
          "base_uri": "https://localhost:8080/"
        },
        "id": "eU92iXiOSWIC",
        "outputId": "ef1a908a-7b69-4611-e162-3836448361c0"
      },
      "execution_count": 31,
      "outputs": [
        {
          "output_type": "stream",
          "name": "stdout",
          "text": [
            "Enter your year of Birth: 2003\n",
            "What is your tribe: yoruba\n",
            "Enle ooooo\n",
            "You are an adult\n"
          ]
        }
      ]
    },
    {
      "cell_type": "markdown",
      "source": [
        "### Assignment\n",
        "\n",
        "write a discount approval program that gives 15% disccount for\n",
        "all order above 30k and 2% discount for orders below 30k"
      ],
      "metadata": {
        "id": "oZ3GQuGyUwpw"
      }
    },
    {
      "cell_type": "markdown",
      "source": [
        "### Basic Data Structures\n",
        "\n",
        "* List\n",
        "* Tuple\n",
        "* Dictioneries"
      ],
      "metadata": {
        "id": "tTYnOoCHVO9l"
      }
    },
    {
      "cell_type": "code",
      "source": [
        "name = ['frmi','tola','bola']\n",
        "cars = ('toyota','benz','bmw')\n",
        "states = {'lagos':'ikeja','oyo':'ibadan','kwara':'ilorin'}\n",
        "\n",
        "print(type(name))\n",
        "print(type(cars))\n",
        "print(type(states))"
      ],
      "metadata": {
        "colab": {
          "base_uri": "https://localhost:8080/"
        },
        "id": "k1mvTtUuTj7h",
        "outputId": "7cae3ad2-ce0b-4537-eafe-2eeb405750a5"
      },
      "execution_count": 34,
      "outputs": [
        {
          "output_type": "stream",
          "name": "stdout",
          "text": [
            "<class 'list'>\n",
            "<class 'tuple'>\n",
            "<class 'dict'>\n"
          ]
        }
      ]
    },
    {
      "cell_type": "code",
      "source": [
        "# some list functions and methods\n",
        "\n",
        "name = ['frmi','tola','bola']\n",
        "age = [23,43,5,12,45,1,7,3]\n",
        "# append\n",
        "name.append('ismail')\n",
        "\n",
        "# pop\n",
        "name.pop(1)\n",
        "\n",
        "# remove\n",
        "name.remove('frmi')\n",
        "\n",
        "# sum\n",
        "sum(age)\n",
        "\n",
        "# len\n",
        "len(age)\n",
        "\n",
        "# sorted\n",
        "sorted(age, reverse=True)"
      ],
      "metadata": {
        "colab": {
          "base_uri": "https://localhost:8080/"
        },
        "id": "RGxmf-tBWgtT",
        "outputId": "6f810e5d-d9ff-4896-e2fc-335c7d25e36d"
      },
      "execution_count": 46,
      "outputs": [
        {
          "output_type": "execute_result",
          "data": {
            "text/plain": [
              "[45, 43, 23, 12, 7, 5, 3, 1]"
            ]
          },
          "metadata": {},
          "execution_count": 46
        }
      ]
    },
    {
      "cell_type": "code",
      "source": [
        "print(name)"
      ],
      "metadata": {
        "colab": {
          "base_uri": "https://localhost:8080/"
        },
        "id": "DiWVf5fRVqKl",
        "outputId": "bd340db0-50f6-48a1-b65e-40586d3219f8"
      },
      "execution_count": 42,
      "outputs": [
        {
          "output_type": "stream",
          "name": "stdout",
          "text": [
            "['ismail', 'ismail', 'ismail']\n"
          ]
        }
      ]
    },
    {
      "cell_type": "code",
      "source": [
        "# Slicing and Indexing a list\n",
        "\n",
        "names = ['femi','tola','bola','ayo','tomi','funmi','fawaz']\n",
        "names[-7]\n",
        "\n",
        "names[:4]\n",
        "names[4:]\n",
        "names[2:5]"
      ],
      "metadata": {
        "colab": {
          "base_uri": "https://localhost:8080/"
        },
        "id": "aKBlKtxBWfMG",
        "outputId": "d4d82251-d733-492d-a12d-798c28dee85a"
      },
      "execution_count": 58,
      "outputs": [
        {
          "output_type": "execute_result",
          "data": {
            "text/plain": [
              "['bola', 'ayo', 'tomi']"
            ]
          },
          "metadata": {},
          "execution_count": 58
        }
      ]
    },
    {
      "cell_type": "code",
      "source": [],
      "metadata": {
        "id": "k3JtZ2quZNie"
      },
      "execution_count": null,
      "outputs": []
    }
  ]
}